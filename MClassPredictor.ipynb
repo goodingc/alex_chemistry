{
 "cells": [
  {
   "cell_type": "code",
   "execution_count": 1,
   "outputs": [
    {
     "name": "stderr",
     "output_type": "stream",
     "text": [
      "C:\\tools\\Anaconda3\\envs\\chem\\lib\\site-packages\\openpyxl\\reader\\drawings.py:59: UserWarning: wmf image format is not supported so the image is being dropped\n",
      "  warn(msg)\n"
     ]
    }
   ],
   "source": [
    "from src.ComplexProcessor import ComplexProcessor\n",
    "x = ComplexProcessor('./res/Titanium spreadsheet MkII - Copy.xlsx')\n",
    "x.extract_ligands()\n",
    "x.find_ligand_values('./res/substituent-parameters.tsv')"
   ],
   "metadata": {
    "collapsed": false,
    "pycharm": {
     "name": "#%%\n"
    }
   }
  },
  {
   "cell_type": "code",
   "execution_count": 1,
   "outputs": [],
   "source": [],
   "metadata": {
    "collapsed": false,
    "pycharm": {
     "name": "#%%\n"
    }
   }
  }
 ],
 "metadata": {
  "kernelspec": {
   "name": "pycharm-42dff96f",
   "language": "python",
   "display_name": "PyCharm (chem)"
  },
  "language_info": {
   "codemirror_mode": {
    "name": "ipython",
    "version": 2
   },
   "file_extension": ".py",
   "mimetype": "text/x-python",
   "name": "python",
   "nbconvert_exporter": "python",
   "pygments_lexer": "ipython2",
   "version": "2.7.6"
  }
 },
 "nbformat": 4,
 "nbformat_minor": 0
}
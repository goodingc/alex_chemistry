{
 "cells": [
  {
   "cell_type": "code",
   "execution_count": 429,
   "outputs": [],
   "source": [
    "import pandas as pd\n",
    "from sklearn.model_selection import train_test_split\n",
    "from matplotlib import pyplot as plt\n",
    "import openpyxl\n",
    "from openpyxl import workbook\n",
    "import numpy as np"
   ],
   "metadata": {
    "collapsed": false,
    "pycharm": {
     "name": "#%%\n"
    }
   }
  },
  {
   "cell_type": "code",
   "execution_count": 430,
   "outputs": [],
   "source": [
    "from sklearn import datasets, linear_model\n",
    "from sklearn.model_selection import train_test_split"
   ],
   "metadata": {
    "collapsed": false,
    "pycharm": {
     "name": "#%%\n"
    }
   }
  },
  {
   "cell_type": "code",
   "execution_count": 431,
   "outputs": [
    {
     "name": "stdout",
     "output_type": "stream",
     "text": [
      "[ 13.           7.         150.         150.           1.9\n",
      "   4.5         26.5         80.          30.          37.45\n",
      "   2.86         7.9          2.6          8.5         16.85\n",
      "  58.15        28.9          5.06         4.72        13.1\n",
      "  32.58         8.6         25.           5.           5.\n",
      "  80.          80.         154.          39.           4.91444444\n",
      "   2.66666667   0.54666667   9.5          3.4          1.1\n",
      " 150.          10.          11.           6.          18.5\n",
      "   4.5          3.35         1.7         80.         150.\n",
      " 150.         120.           5.85       150.          80.\n",
      "  80.           2.75        45.          44.          29.6\n",
      "  64.5         63.          66.          22.         100.\n",
      "  20.          17.          23.          22.          51.\n",
      "  39.          59.           9.           9.5        150.\n",
      "  24.           3.5         25.        ]\n",
      "     HanschPi1  Hammett1       VdW1  HanschPi2  Hammett2     VdW2  HanschPi3  \\\n",
      "36       0.760    -0.134   15.09462      0.000     0.000  1.32000      0.760   \n",
      "37       0.760    -0.134   15.09462      0.000     0.000  1.32000      0.760   \n",
      "38       0.760    -0.134   15.09462      0.000     0.000  1.32000      1.920   \n",
      "39       1.157    -0.133   28.95192      0.000     0.000  1.32000      0.760   \n",
      "40       0.760    -0.134   15.09462      0.379     0.064  6.09939      0.000   \n",
      "..         ...       ...        ...        ...       ...      ...        ...   \n",
      "124      2.639    -0.131  104.67045      0.000     0.000  1.32000      0.758   \n",
      "125      1.553    -0.131   42.80922      0.000     0.000  1.32000      0.760   \n",
      "126      0.760    -0.134   15.09462      0.000     0.000  1.32000      0.758   \n",
      "127      0.058    -0.107   18.50000      0.000     0.000  1.32000      0.760   \n",
      "128     -0.338    -0.080   11.50000      0.000     0.000  1.32000      0.760   \n",
      "\n",
      "     Hammett3      VdW3  HanschPi4  ...      VdW4  HanschPi5  Hammett5  \\\n",
      "36     -0.134  15.09462      0.760  ...  15.09462      0.000     0.000   \n",
      "37     -0.134  15.09462      0.000  ...   1.32000      0.760    -0.134   \n",
      "38     -0.150  56.66652      0.000  ...   1.32000      1.920    -0.150   \n",
      "39     -0.134  15.09462      0.760  ...  15.09462      0.000     0.000   \n",
      "40      0.000   1.32000      0.379  ...   6.09939      0.000     0.000   \n",
      "..        ...       ...        ...  ...       ...        ...       ...   \n",
      "124     0.168  13.42053      0.000  ...   1.32000      0.758     0.168   \n",
      "125    -0.134  15.09462      0.760  ...  15.09462      0.000     0.000   \n",
      "126     0.168  13.42053      0.000  ...   1.32000      0.000     0.000   \n",
      "127    -0.134  15.09462      0.000  ...   1.32000      0.760    -0.134   \n",
      "128    -0.134  15.09462      0.000  ...   1.32000      0.760    -0.134   \n",
      "\n",
      "         VdW5  HanschPi6  Hammett6  VdW6  HanschPi7  Hammett7  VdW7  \n",
      "36    1.32000        0.0       0.0  1.32     -0.338     -0.08  11.5  \n",
      "37   15.09462        0.0       0.0  1.32     -0.338     -0.08  11.5  \n",
      "38   56.66652        0.0       0.0  1.32     -0.338     -0.08  11.5  \n",
      "39    1.32000        0.0       0.0  1.32     -0.338     -0.08  11.5  \n",
      "40    1.32000        0.0       0.0  1.32     -0.338     -0.08  11.5  \n",
      "..        ...        ...       ...   ...        ...       ...   ...  \n",
      "124  13.42053        0.0       0.0  1.32     -0.338     -0.08  11.5  \n",
      "125   1.32000        0.0       0.0  1.32      0.000      0.00   0.0  \n",
      "126   1.32000        0.0       0.0  1.32     -0.338     -0.08  11.5  \n",
      "127  15.09462        0.0       0.0  1.32     -0.338     -0.08  11.5  \n",
      "128  15.09462        0.0       0.0  1.32     -0.338     -0.08  11.5  \n",
      "\n",
      "[73 rows x 21 columns]\n"
     ]
    },
    {
     "name": "stderr",
     "output_type": "stream",
     "text": [
      "C:\\Users\\AlexPC\\anaconda3\\envs\\my-rdkit-env\\lib\\site-packages\\openpyxl\\reader\\drawings.py:59: UserWarning: wmf image format is not supported so the image is being dropped\n",
      "  warn(msg)\n"
     ]
    }
   ],
   "source": [
    "data = pd.read_csv('./res/csvDescriptors.csv')\n",
    "workbook = openpyxl.load_workbook('./res/Titanium spreadsheet MkII - Copy.xlsx', data_only=True)\n",
    "input_sheet = workbook['ChemOffice1']\n",
    "\n",
    "metallocenes = data[data['Class'] == 'M']\n",
    "metallocenes_rows = metallocenes.index + 2\n",
    "phenolates = data[data['Class'] != 'M']\n",
    "phenolates_rows = phenolates.index + 2\n",
    "\n",
    "value_names = []\n",
    "for i in range(7):\n",
    "    value_names.append(f\"HanschPi{i+1}\")\n",
    "    value_names.append(f\"Hammett{i+1}\")\n",
    "    value_names.append(f\"VdW{i+1}\")\n",
    "\n",
    "metallocenes_data = metallocenes[value_names[:4]]\n",
    "metallocenes_potencies = []\n",
    "for line in metallocenes_rows:\n",
    "    metallocenes_potencies.append(input_sheet.cell(row=line, column = 5).value)\n",
    "metallocenes_potencies = np.array(metallocenes_potencies)\n",
    "\n",
    "\n",
    "phenolates_data = phenolates[value_names].fillna(0)\n",
    "phenolates_potencies = []\n",
    "for line in phenolates_rows:\n",
    "    phenolates_potencies.append(input_sheet.cell(row=line, column = 5).value)\n",
    "phenolates_potencies = np.array(phenolates_potencies)\n",
    "print(phenolates_potencies)\n",
    "print(phenolates_data)\n"
   ],
   "metadata": {
    "collapsed": false,
    "pycharm": {
     "name": "#%%\n"
    }
   }
  },
  {
   "cell_type": "code",
   "execution_count": 437,
   "outputs": [
    {
     "name": "stdout",
     "output_type": "stream",
     "text": [
      "Predictions:  [ 31.96277205  42.12832708  94.58583036   3.16232945 -16.66667809\n",
      "  23.19650621  42.12832708  -3.33963435]\n",
      "Actual value:  [150.  100.    9.5  26.5   5.   17.   22.    8.5]\n",
      "R^2 value:  0.36379034647915853\n"
     ]
    },
    {
     "data": {
      "text/plain": "<Figure size 432x288 with 1 Axes>",
      "image/png": "[encoded data removed]"
     },
     "metadata": {
      "needs_background": "light"
     },
     "output_type": "display_data"
    }
   ],
   "source": [
    "l_reg = linear_model.LinearRegression()\n",
    "\n",
    "# m_train, m_test, m_p_train, m_p_test = train_test_split(metallocenes_data, metallocenes_potencies, test_size=0.2)\n",
    "# m_model = l_reg.fit(m_train, m_p_train)\n",
    "# m_predictions = m_model.predict(m_test)\n",
    "#\n",
    "# print(\"Predictions: \", m_predictions)\n",
    "# print(\"Actual value: \", m_p_test)\n",
    "# plt.scatter(m_p_test, m_predictions)\n",
    "# plt.show()\n",
    "# print(\"R^2 value: \", l_reg.score(metallocenes_data,metallocenes_potencies))\n",
    "\n",
    "\n",
    "\n",
    "p_train, p_test, p_p_train, p_p_test = train_test_split(phenolates_data, phenolates_potencies, test_size=0.1)\n",
    "p_model = l_reg.fit(p_train, p_p_train)\n",
    "p_predictions = p_model.predict(p_test)\n",
    "\n",
    "x=[1,2,3,4,5,6,7,8]\n",
    "print(\"Predictions: \", p_predictions)\n",
    "print(\"Actual value: \", p_p_test)\n",
    "plt.scatter(x, p_p_test)\n",
    "plt.scatter(x, p_predictions)\n",
    "plt.show()\n",
    "print(\"R^2 value: \", l_reg.score(phenolates_data,phenolates_potencies))"
   ],
   "metadata": {
    "collapsed": false,
    "pycharm": {
     "name": "#%%\n"
    }
   }
  }
 ],
 "metadata": {
  "kernelspec": {
   "display_name": "Python 3",
   "language": "python",
   "name": "python3"
  },
  "language_info": {
   "codemirror_mode": {
    "name": "ipython",
    "version": 2
   },
   "file_extension": ".py",
   "mimetype": "text/x-python",
   "name": "python",
   "nbconvert_exporter": "python",
   "pygments_lexer": "ipython2",
   "version": "2.7.6"
  }
 },
 "nbformat": 4,
 "nbformat_minor": 0
}